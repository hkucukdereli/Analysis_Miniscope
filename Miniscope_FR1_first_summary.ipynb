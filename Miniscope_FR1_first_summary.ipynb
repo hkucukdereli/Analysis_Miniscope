{
 "cells": [
  {
   "cell_type": "code",
   "execution_count": 1,
   "metadata": {
    "collapsed": false
   },
   "outputs": [],
   "source": [
    "%matplotlib inline\n",
    "import pandas as pd\n",
    "import numpy as np\n",
    "import matplotlib.pyplot as plt\n",
    "import matplotlib.patches as mpatches\n",
    "from imagingIO import loopMice, loadData, loadBeh, getBeh\n",
    "from analysis import dffCalc, filtData, smoothData, normData\n",
    "from events import getEvents\n",
    "from trials import markTrials\n",
    "from bouts import getBouts, getBoutDur, markBouts\n",
    "from statistics import stdCalc, getBoutMeans, getStats\n",
    "from plotter import plotMean, plotHeat, plotTrials, plotHeatTrials"
   ]
  },
  {
   "cell_type": "code",
   "execution_count": 2,
   "metadata": {
    "collapsed": true
   },
   "outputs": [],
   "source": [
    "# Start gathering the data from FR1 exp\n",
    "# Mice\n",
    "mice = [(8404, 6), (8857, 3), (8864, 1)]\n",
    "# Parameters\n",
    "behType = 'FR1'\n",
    "fs = 0.05\n",
    "trials=[1,12]"
   ]
  },
  {
   "cell_type": "code",
   "execution_count": 3,
   "metadata": {
    "collapsed": false
   },
   "outputs": [],
   "source": [
    "# Get file paths\n",
    "fileList = loopMice(mice, behType)\n",
    "\n",
    "# Load the data\n",
    "dataList = loadData(mice, behType)\n",
    "\n",
    "# Load the behaviour\n",
    "eventList = getBeh(mice, fileList['Behaviour'], behType)"
   ]
  },
  {
   "cell_type": "code",
   "execution_count": null,
   "metadata": {
    "collapsed": false
   },
   "outputs": [],
   "source": [
    "# Plot the raw data\n",
    "\"\"\"\n",
    "plt.figure(figsize=(20,10), facecolor=\"w\", dpi= 150)\n",
    "for i, [mus, sess] in enumerate(mice):\n",
    "    ax = plt.subplot(len(mice),1,i+1)\n",
    "    dataList[mus].plot(ax=ax, legend=False, cmap=plt.cm.rainbow)\n",
    "    ax.set_ylabel(\"dF/F (%)\")\n",
    "\"\"\""
   ]
  },
  {
   "cell_type": "code",
   "execution_count": null,
   "metadata": {
    "collapsed": false
   },
   "outputs": [],
   "source": [
    "# dFF and plot\n",
    "\"\"\"\n",
    "dFFList = dffCalc(mice, dataList, lowest=False)\n",
    "\n",
    "# Get the events\n",
    "eventStart = getEvents(mice, eventList, 'Eat_Start', trials)\n",
    "eventEnd = getEvents(mice, eventList, 'Eat_End', trials)\n",
    "\n",
    "# Plot the dFF data\n",
    "plt.figure(figsize=(20,10), facecolor=\"w\", dpi= 150)\n",
    "for i, [mus, sess] in enumerate(mice):\n",
    "    ax = plt.subplot(len(mice),1,i+1)\n",
    "    dFFList[mus].plot(ax=ax, legend=False, cmap=plt.cm.rainbow)\n",
    "    ax.set_ylabel(\"dF/F (%)\")\n",
    "    \n",
    "    # Plot the eating bouts\n",
    "    for i, event in enumerate(eventStart[mus]):\n",
    "        ax.fill_between([eventStart[mus].loc[i+1], eventEnd[mus].loc[i+1]], -10, 50, facecolor='gray', linewidth=0, alpha=0.3, zorder=-55)\n",
    "\"\"\""
   ]
  },
  {
   "cell_type": "code",
   "execution_count": 1,
   "metadata": {
    "collapsed": false,
    "scrolled": true
   },
   "outputs": [
    {
     "ename": "NameError",
     "evalue": "name 'filtData' is not defined",
     "output_type": "error",
     "traceback": [
      "\u001b[1;31m---------------------------------------------------------------------------\u001b[0m",
      "\u001b[1;31mNameError\u001b[0m                                 Traceback (most recent call last)",
      "\u001b[1;32m<ipython-input-1-919383fbcd00>\u001b[0m in \u001b[0;36m<module>\u001b[1;34m()\u001b[0m\n\u001b[0;32m      1\u001b[0m \u001b[1;31m# dFF and plot again\u001b[0m\u001b[1;33m\u001b[0m\u001b[1;33m\u001b[0m\u001b[0m\n\u001b[1;32m----> 2\u001b[1;33m \u001b[0mfiltList\u001b[0m \u001b[1;33m=\u001b[0m \u001b[0mfiltData\u001b[0m\u001b[1;33m(\u001b[0m\u001b[0mmice\u001b[0m\u001b[1;33m,\u001b[0m \u001b[0mdffCalc\u001b[0m\u001b[1;33m(\u001b[0m\u001b[0mmice\u001b[0m\u001b[1;33m,\u001b[0m \u001b[0mdataList\u001b[0m\u001b[1;33m,\u001b[0m \u001b[0mlowest\u001b[0m\u001b[1;33m=\u001b[0m\u001b[0mFalse\u001b[0m\u001b[1;33m)\u001b[0m\u001b[1;33m,\u001b[0m \u001b[0mcutoff\u001b[0m\u001b[1;33m=\u001b[0m\u001b[1;36m5.0\u001b[0m\u001b[1;33m,\u001b[0m \u001b[0morder\u001b[0m\u001b[1;33m=\u001b[0m\u001b[1;36m6\u001b[0m\u001b[1;33m)\u001b[0m\u001b[1;33m\u001b[0m\u001b[0m\n\u001b[0m\u001b[0;32m      3\u001b[0m \u001b[0mdFFList\u001b[0m \u001b[1;33m=\u001b[0m \u001b[0msmoothData\u001b[0m\u001b[1;33m(\u001b[0m\u001b[0mmice\u001b[0m\u001b[1;33m,\u001b[0m \u001b[0mfiltList\u001b[0m\u001b[1;33m,\u001b[0m \u001b[0mwindow\u001b[0m\u001b[1;33m=\u001b[0m\u001b[1;36m4\u001b[0m\u001b[1;33m)\u001b[0m\u001b[1;33m\u001b[0m\u001b[0m\n\u001b[0;32m      4\u001b[0m \u001b[1;33m\u001b[0m\u001b[0m\n\u001b[0;32m      5\u001b[0m \u001b[1;31m# Normalize the data\u001b[0m\u001b[1;33m\u001b[0m\u001b[1;33m\u001b[0m\u001b[0m\n",
      "\u001b[1;31mNameError\u001b[0m: name 'filtData' is not defined"
     ]
    }
   ],
   "source": [
    "# dFF and plot again\n",
    "filtList = filtData(mice, dffCalc(mice, dataList, lowest=False), cutoff=5.0, order=6)\n",
    "dFFList = smoothData(mice, filtList, window=4)\n",
    "\n",
    "# Normalize the data\n",
    "normList = normData(mice, dFFList)\n",
    "\n",
    "# Get the events\n",
    "eventStart = getEvents(mice, eventList, 'Eat_Start', trials)\n",
    "eventEnd = getEvents(mice, eventList, 'Eat_End', trials)\n",
    "\n",
    "if 0:\n",
    "    # Plot the dFF data\n",
    "    n = 100\n",
    "    fig = plt.figure(figsize=(50,50), facecolor=\"w\", dpi= 150)\n",
    "    for i, [mus, sess] in enumerate(mice):    \n",
    "        offset = np.linspace(0, n, len(dFFList[mus].columns))\n",
    "        ax = plt.subplot(len(mice),1,i+1)\n",
    "        (dFFList[mus]+offset).plot(ax=ax, legend=False, cmap=plt.cm.rainbow)\n",
    "        ax.set_ylabel(\"dF/F (%)\")\n",
    "\n",
    "        # Plot the eating bouts\n",
    "        for i, event in enumerate(eventStart[mus]):\n",
    "            ax.fill_between([eventStart[mus].loc[i+1], eventEnd[mus].loc[i+1]], -20, 150, facecolor='gray', linewidth=0, alpha=0.3, zorder=-55)\n",
    "\n",
    "    fig.savefig(\"J:\\\\Hakan Kucukdereli\\\\Miniscope_Behaviour_MPIN\\\\scripts\\\\figures\\\\first_draft\\\\1_all_cells_filt2_dff.svg\")"
   ]
  },
  {
   "cell_type": "code",
   "execution_count": null,
   "metadata": {
    "collapsed": true
   },
   "outputs": [],
   "source": [
    "# Look at the event PSTHs"
   ]
  },
  {
   "cell_type": "code",
   "execution_count": null,
   "metadata": {
    "collapsed": false,
    "scrolled": true
   },
   "outputs": [],
   "source": [
    "# Pick the event\n",
    "save = False\n",
    "eventType = 'Eat_Start'\n",
    "base = -10.0\n",
    "duration = 30.0\n",
    "\n",
    "# Plot the mean of all\n",
    "eventsData = markTrials(mice, dFFList, base=base, duration=duration, eventType=eventType, behType=behType, trials=trials, baselining=True)\n",
    "eventsData_norm = markTrials(mice, normList, base=base, duration=duration, eventType=eventType, behType=behType, trials=trials, baselining=False)\n",
    "\n",
    "# Calculate the mean and sem\n",
    "mean=eventsData.pivot_table(index=['Event', 'Cell'], columns='New_Time').mean()\n",
    "sem=eventsData.pivot_table(index=['Event', 'Cell'], columns='New_Time').sem()\n",
    "time = np.arange(base,duration,fs)\n",
    "\n",
    "fig, ax = plotMean(mean, sem, time, eventType)\n",
    "fname = \"J:\\\\Hakan Kucukdereli\\\\Miniscope_Behaviour_MPIN\\\\scripts\\\\figures\\\\first_draft\\\\\"+\"2_\"+eventType+\"_all_trials_mean_base_\"+str(base)+\"sec.svg\"\n",
    "if save:    \n",
    "    fig.savefig(fname)\n",
    "\n",
    "fname = \"J:\\\\Hakan Kucukdereli\\\\Miniscope_Behaviour_MPIN\\\\scripts\\\\figures\\\\first_draft\\\\heatmaps\\\\\"+\"2_\"+eventType+ \"_all_trials_heatmap_\"+str(base)+\"sec.svg\"\n",
    "fig2, ax2 = plotHeat(eventsData_norm, eventType, base, duration, trials, fs=0.05, vlim=[0.0,0.55])\n",
    "if 1:\n",
    "    fig2.savefig(fname)"
   ]
  },
  {
   "cell_type": "code",
   "execution_count": null,
   "metadata": {
    "collapsed": false
   },
   "outputs": [],
   "source": [
    "heatData = eventsData_norm.pivot_table(index=['Event', 'Cell'], columns='New_Time').values\n",
    "[row, col] = heatData.shape\n",
    "vlim=False\n",
    "save=False\n",
    "plt.style.use('classic')\n",
    "# Set the font dictionaries (for plot title and axis titles)\n",
    "font = {'sans-serif' : 'Arial',\n",
    "        'weight' : 'normal',\n",
    "        'size'   : 18}\n",
    "plt.rc('font', **font)\n",
    "\n",
    "fig = plt.figure(figsize=(5,10), facecolor=\"w\", dpi= 150)\n",
    "ax = plt.subplot(111)\n",
    "\n",
    "line = 1.5\n",
    "colors = ('#BCBEC0', '#0070C0', '#BCBEC0', '#0070C0')\n",
    "\n",
    "if vlim:\n",
    "    plt.pcolor(heatData, cmap=plt.cm.PiYG_r, linewidth=line, linestyle='solid', vmin=vlim[0], vmax=vlim[1])\n",
    "else:\n",
    "    plt.pcolor(heatData, cmap=plt.cm.PiYG_r, linewidth=line, linestyle='solid')\n",
    "\n",
    "ax.set_yticks(np.linspace(0.5, row-0.5, 2))\n",
    "ax.set_yticklabels(np.linspace(1, row, 2, dtype=int))\n",
    "ax.set_ylim(0, row)\n",
    "\n",
    "ax.invert_yaxis()\n",
    "cbar = plt.colorbar(ax=ax)\n",
    "cbar.set_label(\"Normalized dF/F\")\n",
    "\n",
    "## labels\n",
    "ax.set_xlabel('Time (sec)')\n",
    "ax.set_ylabel('Trial #')\n",
    "ax.set_title(eventType)\n",
    "\n",
    "## decorate the axes\n",
    "#ax.tick_params(axis='y', color= '#000000', width= line, direction='in', length= 4, which='major', pad=10)\n",
    "#ax.tick_params(axis='x', color= '#000000', width= line, direction='in', length= 4, which='major', pad=12)\n",
    "time_ax = np.arange(base, duration+0.001, 5.0)\n",
    "ax.set_xticks(np.linspace(0, (-base+duration)/fs, len(time_ax)))\n",
    "ax.set_xticklabels(time_ax)\n",
    "\n",
    "ax.plot([-base/fs, -base/fs], list(ax.get_ylim()), 'w', linestyle='--', linewidth=line*1.2, alpha=1., zorder=111)\n",
    "\n",
    "fname = \"J:\\\\Hakan Kucukdereli\\\\Miniscope_Behaviour_MPIN\\\\scripts\\\\figures\\\\first_draft\\\\\"+\"_\"+eventType+ \"_everything_heatmap_\"+str(base)+\"sec.png\"\n",
    "if save:\n",
    "    fig.savefig(fname)"
   ]
  },
  {
   "cell_type": "code",
   "execution_count": null,
   "metadata": {
    "collapsed": false
   },
   "outputs": [],
   "source": [
    "heatData = eventsData_norm.pivot_table(index=['Event', 'Cell'], columns='New_Time').loc[1]\n",
    "\n",
    "heatTrials = pd.DataFrame()\n",
    "for ind in np.arange(trials[0], trials[1]+1):\n",
    "    heatData = eventsData_norm.pivot_table(index=['Event', 'Cell'], columns='New_Time').loc[ind]\n",
    "\n",
    "    sortAx = heatData.mean(axis=1)\n",
    "    heatData\n",
    "    heatData['Cell_Mean'] = sortAx\n",
    "    heatData = heatData.sort_values(by='Cell_Mean', ascending=False)\n",
    "\n",
    "    heatTrials = heatTrials.append(heatData['Fluoro'])\n",
    "    \n",
    "sortAx = heatData.mean(axis=1)\n",
    "heatData['Cell_Mean'] = sortAx\n",
    "heatData = heatData.sort_values(by='Cell_Mean', ascending=False)\n",
    "\n",
    "fig, ax = plotHeatTrials(heatData['Fluoro'], eventType, base, duration, trials, fs=0.05, figsize=(6,5), seperate=False)\n",
    "\n",
    "fig2, ax2 = plotHeatTrials(heatTrials, eventType, base, duration, trials=[1,1], fs=0.05, figsize=(5,10), seperate=True)\n",
    "\n",
    "fname = \"J:\\\\Hakan Kucukdereli\\\\Miniscope_Behaviour_MPIN\\\\scripts\\\\figures\\\\first_draft\\\\\"+\"_\"+eventType+ \"_everything_heatmap_\"+str(base)+\"sec.png\"\n",
    "if save:\n",
    "    fig.savefig(fname)\n"
   ]
  },
  {
   "cell_type": "code",
   "execution_count": null,
   "metadata": {
    "collapsed": false,
    "scrolled": false
   },
   "outputs": [],
   "source": [
    "# Plot the trial means\n",
    "trialMeans = pd.DataFrame()\n",
    "for trial in range(trials[0], trials[1]+1):\n",
    "    dfMeans = pd.DataFrame()\n",
    "    dfMeans['Mean'] = eventsData.pivot_table(index=['Event', 'Cell'], columns='New_Time').loc[trial].mean().values\n",
    "    dfMeans[\"Sem\"] = eventsData.pivot_table(index=['Event', 'Cell'], columns='New_Time').loc[trial].sem().values\n",
    "    dfMeans['Trial'] = trial\n",
    "    trialMeans = trialMeans.append(dfMeans)\n",
    "\n",
    "fig, ax = plotTrials(trialMeans, time=time, base=base, duration=duration, eventType=eventType, trials=trials, f=3)\n",
    "fname = \"J:\\\\Hakan Kucukdereli\\\\Miniscope_Behaviour_MPIN\\\\scripts\\\\figures\\\\first_draft\\\\\"+\"3_\"+eventType+\"_trial_means_base_\"+str(base)+\"sec.svg\"\n",
    "fig.savefig(fname)"
   ]
  },
  {
   "cell_type": "code",
   "execution_count": null,
   "metadata": {
    "collapsed": true
   },
   "outputs": [],
   "source": [
    "#eventsData_norm.pivot_table(index=['Event', 'Cell'], columns='New_Time').loc[1]"
   ]
  },
  {
   "cell_type": "code",
   "execution_count": null,
   "metadata": {
    "collapsed": false
   },
   "outputs": [],
   "source": [
    "# Pick the event\n",
    "eventType = 'Eat_End'\n",
    "base = -10.0\n",
    "duration = 30.0\n",
    "\n",
    "# Plot the mean of all\n",
    "eventsData = markTrials(mice, dFFList, base=base, duration=duration, eventType=eventType, behType=behType, trials=trials, baselining=True)\n",
    "eventsData_norm = markTrials(mice, normList, base=base, duration=duration, eventType=eventType, behType=behType, trials=trials, baselining=False)\n",
    "\n",
    "# Calculate the mean and sem\n",
    "mean=eventsData.pivot_table(index=['Event', 'Cell'], columns='New_Time').mean()\n",
    "sem=eventsData.pivot_table(index=['Event', 'Cell'], columns='New_Time').sem()\n",
    "time = np.arange(base,duration,fs)\n",
    "\n",
    "fig, ax = plotMean(mean, sem, time, eventType)\n",
    "fname = \"J:\\\\Hakan Kucukdereli\\\\Miniscope_Behaviour_MPIN\\\\scripts\\\\figures\\\\first_draft\\\\\"+\"2_\"+eventType+\"_all_trials_mean_base_\"+str(base)+\"sec.svg\"\n",
    "fig.savefig(fname)\n",
    "\n",
    "fname = \"J:\\\\Hakan Kucukdereli\\\\Miniscope_Behaviour_MPIN\\\\scripts\\\\figures\\\\first_draft\\\\heatmaps\\\\\"+\"2_\"+eventType+ \"_all_trials_heatmap_\"+str(base)+\"sec.svg\"\n",
    "fig2, ax2 = plotHeat(eventsData_norm, eventType, base, duration, trials, fs=0.05, vlim=[0.0, 0.55])\n",
    "fig2.savefig(fname)"
   ]
  },
  {
   "cell_type": "code",
   "execution_count": null,
   "metadata": {
    "collapsed": false,
    "scrolled": false
   },
   "outputs": [],
   "source": [
    "heatData = eventsData_norm.pivot_table(index=['Event', 'Cell'], columns='New_Time').values\n",
    "[row, col] = heatData.shape\n",
    "vlim=False\n",
    "plt.style.use('classic')\n",
    "# Set the font dictionaries (for plot title and axis titles)\n",
    "font = {'sans-serif' : 'Arial',\n",
    "        'weight' : 'normal',\n",
    "        'size'   : 18}\n",
    "plt.rc('font', **font)\n",
    "\n",
    "fig = plt.figure(figsize=(5,5), facecolor=\"w\", dpi= 150)\n",
    "ax = plt.subplot(111)\n",
    "\n",
    "line = 1.5\n",
    "colors = ('#BCBEC0', '#0070C0', '#BCBEC0', '#0070C0')\n",
    "\n",
    "if vlim:\n",
    "    plt.pcolor(heatData, cmap=plt.cm.PiYG_r, linewidth=line, linestyle='solid', vmin=vlim[0], vmax=vlim[1])\n",
    "else:\n",
    "    plt.pcolor(heatData, cmap=plt.cm.PiYG_r, linewidth=line, linestyle='solid')\n",
    "\n",
    "ax.set_yticks(np.linspace(0.5, row-0.5, 2))\n",
    "ax.set_yticklabels(np.linspace(1, row, 2, dtype=int))\n",
    "ax.set_ylim(0, row)\n",
    "\n",
    "ax.invert_yaxis()\n",
    "cbar = plt.colorbar(ax=ax)\n",
    "cbar.set_label(\"Normalized dF/F\")\n",
    "\n",
    "## labels\n",
    "ax.set_xlabel('Time (sec)')\n",
    "ax.set_ylabel('Trial #')\n",
    "ax.set_title(eventType)\n",
    "\n",
    "## decorate the axes\n",
    "#ax.tick_params(axis='y', color= '#000000', width= line, direction='in', length= 4, which='major', pad=10)\n",
    "#ax.tick_params(axis='x', color= '#000000', width= line, direction='in', length= 4, which='major', pad=12)\n",
    "time_ax = np.arange(base, duration+0.001, 5.0)\n",
    "ax.set_xticks(np.linspace(0, (-base+duration)/fs, len(time_ax)))\n",
    "ax.set_xticklabels(time_ax)\n",
    "\n",
    "ax.plot([-base/fs, -base/fs], list(ax.get_ylim()), 'w', linestyle='--', linewidth=line*1.2, alpha=1., zorder=111)\n",
    "\n",
    "fname = \"J:\\\\Hakan Kucukdereli\\\\Miniscope_Behaviour_MPIN\\\\scripts\\\\figures\\\\first_draft\\\\\"+\"_\"+eventType+ \"_everything_heatmap_\"+str(base)+\"sec.png\"\n",
    "fig.savefig(fname)"
   ]
  },
  {
   "cell_type": "code",
   "execution_count": null,
   "metadata": {
    "collapsed": false
   },
   "outputs": [],
   "source": [
    "eventsData_norm.pivot_table(index=['Event', 'Cell'], columns='New_Time').loc"
   ]
  },
  {
   "cell_type": "code",
   "execution_count": null,
   "metadata": {
    "collapsed": false,
    "scrolled": true
   },
   "outputs": [],
   "source": [
    "# Plot the trial means\n",
    "trialMeans = pd.DataFrame()\n",
    "for trial in range(trials[0], trials[1]+1):\n",
    "    dfMeans = pd.DataFrame()\n",
    "    dfMeans['Mean'] = eventsData.pivot_table(index=['Event', 'Cell'], columns='New_Time').loc[trial].mean().values\n",
    "    dfMeans[\"Sem\"] = eventsData.pivot_table(index=['Event', 'Cell'], columns='New_Time').loc[trial].sem().values\n",
    "    dfMeans['Trial'] = trial\n",
    "    trialMeans = trialMeans.append(dfMeans)\n",
    "\n",
    "fig, ax = plotTrials(trialMeans, time=time, base=base, duration=duration, eventType=eventType, trials=trials, f=3)\n",
    "fname = \"J:\\\\Hakan Kucukdereli\\\\Miniscope_Behaviour_MPIN\\\\scripts\\\\figures\\\\first_draft\\\\\"+\"3_\"+eventType+\"_trial_means_base_\"+str(base)+\"sec.svg\"\n",
    "fig.savefig(fname)"
   ]
  },
  {
   "cell_type": "code",
   "execution_count": null,
   "metadata": {
    "collapsed": false
   },
   "outputs": [],
   "source": [
    "# Pick the event\n",
    "eventType = 'Food_Contact'\n",
    "base = -10.0\n",
    "duration = 30.0\n",
    "\n",
    "# Plot the mean of all\n",
    "eventsData = markTrials(mice, dFFList, base=base, duration=duration, eventType=eventType, behType=behType, trials=trials, baselining=True)\n",
    "eventsData_norm = markTrials(mice, normList, base=base, duration=duration, eventType=eventType, behType=behType, trials=trials, baselining=True)\n",
    "\n",
    "# Calculate the mean and sem\n",
    "mean=eventsData.pivot_table(index=['Event', 'Cell'], columns='New_Time').mean()\n",
    "sem=eventsData.pivot_table(index=['Event', 'Cell'], columns='New_Time').sem()\n",
    "time = np.arange(base,duration,fs)\n",
    "\n",
    "fig, ax = plotMean(mean, sem, time, eventType)\n",
    "fname = \"J:\\\\Hakan Kucukdereli\\\\Miniscope_Behaviour_MPIN\\\\scripts\\\\figures\\\\first_draft\\\\\"+\"2_\"+eventType+\"_all_trials_mean_base_\"+str(base)+\"sec.svg\"\n",
    "fig.savefig(fname)\n",
    "\n",
    "fname = \"J:\\\\Hakan Kucukdereli\\\\Miniscope_Behaviour_MPIN\\\\scripts\\\\figures\\\\first_draft\\\\\"+\"2_\"+eventType+ \"_all_trials_heatmap_\"+str(base)+\"sec.svg\"\n",
    "fig2, ax2 = plotHeat(eventsData_norm, eventType, base, duration, trials, fs=0.05, vlim=[-0.1, 0.3])\n",
    "fig2.savefig(fname)"
   ]
  },
  {
   "cell_type": "code",
   "execution_count": null,
   "metadata": {
    "collapsed": false
   },
   "outputs": [],
   "source": [
    "# Plot the trial means\n",
    "trialMeans = pd.DataFrame()\n",
    "for trial in range(trials[0], trials[1]+1):\n",
    "    dfMeans = pd.DataFrame()\n",
    "    dfMeans['Mean'] = eventsData.pivot_table(index=['Event', 'Cell'], columns='New_Time').loc[trial].mean().values\n",
    "    dfMeans[\"Sem\"] = eventsData.pivot_table(index=['Event', 'Cell'], columns='New_Time').loc[trial].sem().values\n",
    "    dfMeans['Trial'] = trial\n",
    "    trialMeans = trialMeans.append(dfMeans)\n",
    "\n",
    "fig, ax = plotTrials(trialMeans, time=time, base=base, duration=duration, eventType=eventType, trials=trials, f=3)\n",
    "fname = \"J:\\\\Hakan Kucukdereli\\\\Miniscope_Behaviour_MPIN\\\\scripts\\\\figures\\\\first_draft\\\\\"+\"3_\"+eventType+\"_trial_means_base_\"+str(base)+\"sec.svg\"\n",
    "fig.savefig(fname)"
   ]
  },
  {
   "cell_type": "code",
   "execution_count": null,
   "metadata": {
    "collapsed": false
   },
   "outputs": [],
   "source": [
    "# Pick the event\n",
    "eventType = 'Right_Poke'\n",
    "base = -10.0\n",
    "duration = 10.0\n",
    "\n",
    "# Plot the mean of all\n",
    "eventsData = markTrials(mice, dFFList, base=base, duration=duration, eventType=eventType, behType=behType, trials=trials, baselining=True)\n",
    "eventsData_norm = markTrials(mice, normList, base=base, duration=duration, eventType=eventType, behType=behType, trials=trials, baselining=False)\n",
    "\n",
    "# Calculate the mean and sem\n",
    "mean=eventsData.pivot_table(index=['Event', 'Cell'], columns='New_Time').mean()\n",
    "sem=eventsData.pivot_table(index=['Event', 'Cell'], columns='New_Time').sem()\n",
    "time = np.arange(base,duration,fs)\n",
    "\n",
    "fig, ax = plotMean(mean, sem, time, eventType)\n",
    "ax.plot([3.0, 3.0],[-1, 5], 'gray', linestyle='--', linewidth=1.5*1.2, alpha=0.7)\n",
    "ax.fill_between([0.0,3.0], -1, 5, facecolor='y', linewidth=0, alpha=1.0, zorder=-55)\n",
    "#fig, ax = plotMean(mean, sem, time, eventType)\n",
    "fname = \"J:\\\\Hakan Kucukdereli\\\\Miniscope_Behaviour_MPIN\\\\scripts\\\\figures\\\\first_draft\\\\\"+\"2_\"+eventType+\"_all_trials_mean_base_\"+str(base)+\"sec.svg\"\n",
    "fig.savefig(fname)\n",
    "\n",
    "fname = \"J:\\\\Hakan Kucukdereli\\\\Miniscope_Behaviour_MPIN\\\\scripts\\\\figures\\\\first_draft\\\\heatmaps\\\\\"+\"2_\"+eventType+ \"_all_trials_heatmap_\"+str(base)+\"sec.svg\"\n",
    "fig2, ax2 = plotHeat(eventsData_norm, eventType, base, duration, trials, fs=0.05, vlim=[0.0, 0.55])\n",
    "fig2.savefig(fname)"
   ]
  },
  {
   "cell_type": "code",
   "execution_count": null,
   "metadata": {
    "collapsed": false
   },
   "outputs": [],
   "source": [
    "heatData = eventsData_norm.pivot_table(index=['Event', 'Cell'], columns='New_Time').values\n",
    "[row, col] = heatData.shape\n",
    "vlim=False\n",
    "plt.style.use('classic')\n",
    "# Set the font dictionaries (for plot title and axis titles)\n",
    "font = {'sans-serif' : 'Arial',\n",
    "        'weight' : 'normal',\n",
    "        'size'   : 18}\n",
    "plt.rc('font', **font)\n",
    "\n",
    "fig = plt.figure(figsize=(5,10), facecolor=\"w\", dpi= 150)\n",
    "ax = plt.subplot(111)\n",
    "\n",
    "line = 1.5\n",
    "colors = ('#BCBEC0', '#0070C0', '#BCBEC0', '#0070C0')\n",
    "\n",
    "if vlim:\n",
    "    plt.pcolor(heatData, cmap=plt.cm.PiYG_r, linewidth=line, linestyle='solid', vmin=vlim[0], vmax=vlim[1])\n",
    "else:\n",
    "    plt.pcolor(heatData, cmap=plt.cm.PiYG_r, linewidth=line, linestyle='solid')\n",
    "\n",
    "ax.set_yticks(np.linspace(0.5, row-0.5, 2))\n",
    "ax.set_yticklabels(np.linspace(1, row, 2, dtype=int))\n",
    "ax.set_ylim(0, row)\n",
    "\n",
    "ax.invert_yaxis()\n",
    "cbar = plt.colorbar(ax=ax)\n",
    "cbar.set_label(\"Normalized dF/F\")\n",
    "\n",
    "## labels\n",
    "ax.set_xlabel('Time (sec)')\n",
    "ax.set_ylabel('Trial #')\n",
    "ax.set_title(eventType)\n",
    "\n",
    "## decorate the axes\n",
    "#ax.tick_params(axis='y', color= '#000000', width= line, direction='in', length= 4, which='major', pad=10)\n",
    "#ax.tick_params(axis='x', color= '#000000', width= line, direction='in', length= 4, which='major', pad=12)\n",
    "time_ax = np.arange(base, duration+0.001, 5.0)\n",
    "ax.set_xticks(np.linspace(0, (-base+duration)/fs, len(time_ax)))\n",
    "ax.set_xticklabels(time_ax)\n",
    "\n",
    "ax.plot([-base/fs, -base/fs], list(ax.get_ylim()), 'w', linestyle='--', linewidth=line*1.2, alpha=1., zorder=111)\n",
    "\n",
    "fname = \"J:\\\\Hakan Kucukdereli\\\\Miniscope_Behaviour_MPIN\\\\scripts\\\\figures\\\\first_draft\\\\\"+\"_\"+eventType+ \"_everything_heatmap_\"+str(base)+\"sec.png\"\n",
    "fig.savefig(fname)"
   ]
  },
  {
   "cell_type": "code",
   "execution_count": null,
   "metadata": {
    "collapsed": false
   },
   "outputs": [],
   "source": [
    "# Plot the trial means\n",
    "trialMeans = pd.DataFrame()\n",
    "for trial in range(trials[0], trials[1]+1):\n",
    "    dfMeans = pd.DataFrame()\n",
    "    dfMeans['Mean'] = eventsData.pivot_table(index=['Event', 'Cell'], columns='New_Time').loc[trial].mean().values\n",
    "    dfMeans[\"Sem\"] = eventsData.pivot_table(index=['Event', 'Cell'], columns='New_Time').loc[trial].sem().values\n",
    "    dfMeans['Trial'] = trial\n",
    "    trialMeans = trialMeans.append(dfMeans)\n",
    "\n",
    "fig, ax = plotTrials(trialMeans, time=time, base=base, duration=duration, eventType=eventType, trials=trials, f=3)\n",
    "ax.plot([3.0, 3.0],[10, -35], 'gray', linestyle='--', linewidth=1.5*1.2, alpha=0.7)\n",
    "ax.fill_between([0.0,3.0], 10, -35, facecolor='y', linewidth=0, alpha=1.0, zorder=-55)\n",
    "fname = \"J:\\\\Hakan Kucukdereli\\\\Miniscope_Behaviour_MPIN\\\\scripts\\\\figures\\\\first_draft\\\\\"+\"3_\"+eventType+\"_trial_means_base_\"+str(base)+\"sec.svg\"\n",
    "fig.savefig(fname)"
   ]
  },
  {
   "cell_type": "code",
   "execution_count": null,
   "metadata": {
    "collapsed": false
   },
   "outputs": [],
   "source": [
    "# Pick the event\n",
    "eventType = 'Left_Poke'\n",
    "base = -10.0\n",
    "duration = 30.0\n",
    "trials = [1,2]\n",
    "\n",
    "# Plot the mean of all\n",
    "eventsData = markTrials(mice, dFFList, base=base, duration=duration, eventType=eventType, behType=behType, trials=trials, baselining=True)\n",
    "eventsData_norm = markTrials(mice, normList, base=base, duration=duration, eventType=eventType, behType=behType, trials=trials, baselining=False)\n",
    "\n",
    "# Calculate the mean and sem\n",
    "mean=eventsData.pivot_table(index=['Event', 'Cell'], columns='New_Time').mean()\n",
    "sem=eventsData.pivot_table(index=['Event', 'Cell'], columns='New_Time').sem()\n",
    "time = np.arange(base,duration,fs)\n",
    "\n",
    "fig, ax = plotMean(mean, sem, time, eventType)\n",
    "ax.plot([3.0, 3.0],[-1, 5], 'gray', linestyle='--', linewidth=1.5*1.2, alpha=0.7)\n",
    "ax.fill_between([0.0,3.0], -1, 5, facecolor='y', linewidth=0, alpha=1.0, zorder=-55)\n",
    "fig, ax = plotMean(mean, sem, time, eventType)\n",
    "fname = \"J:\\\\Hakan Kucukdereli\\\\Miniscope_Behaviour_MPIN\\\\scripts\\\\figures\\\\first_draft\\\\\"+\"2_\"+eventType+\"_all_trials_mean_base_\"+str(base)+\"sec.svg\"\n",
    "fig.savefig(fname)\n",
    "\n",
    "fname = \"J:\\\\Hakan Kucukdereli\\\\Miniscope_Behaviour_MPIN\\\\scripts\\\\figures\\\\first_draft\\\\\"+\"2_\"+eventType+ \"_all_trials_heatmap_\"+str(base)+\"sec.svg\"\n",
    "fig2, ax2 = plotHeat(eventsData_norm, eventType, base, duration, trials, fs=0.05, vlim=[-0.1, 0.3])\n",
    "fig2.savefig(fname)"
   ]
  },
  {
   "cell_type": "code",
   "execution_count": null,
   "metadata": {
    "collapsed": false
   },
   "outputs": [],
   "source": [
    "heatData = eventsData_norm.pivot_table(index=['Event', 'Cell'], columns='New_Time').values\n",
    "[row, col] = heatData.shape\n",
    "vlim=False\n",
    "plt.style.use('classic')\n",
    "# Set the font dictionaries (for plot title and axis titles)\n",
    "font = {'sans-serif' : 'Arial',\n",
    "        'weight' : 'normal',\n",
    "        'size'   : 18}\n",
    "plt.rc('font', **font)\n",
    "\n",
    "fig = plt.figure(figsize=(5,10), facecolor=\"w\", dpi= 150)\n",
    "ax = plt.subplot(111)\n",
    "\n",
    "line = 1.5\n",
    "colors = ('#BCBEC0', '#0070C0', '#BCBEC0', '#0070C0')\n",
    "\n",
    "if vlim:\n",
    "    plt.pcolor(heatData, cmap=plt.cm.PiYG_r, linewidth=line, linestyle='solid', vmin=vlim[0], vmax=vlim[1])\n",
    "else:\n",
    "    plt.pcolor(heatData, cmap=plt.cm.PiYG_r, linewidth=line, linestyle='solid')\n",
    "\n",
    "ax.set_yticks(np.linspace(0.5, row-0.5, 2))\n",
    "ax.set_yticklabels(np.linspace(1, row, 2, dtype=int))\n",
    "ax.set_ylim(0, row)\n",
    "\n",
    "ax.invert_yaxis()\n",
    "cbar = plt.colorbar(ax=ax)\n",
    "cbar.set_label(\"Normalized dF/F\")\n",
    "\n",
    "## labels\n",
    "ax.set_xlabel('Time (sec)')\n",
    "ax.set_ylabel('Trial #')\n",
    "ax.set_title(eventType)\n",
    "\n",
    "## decorate the axes\n",
    "#ax.tick_params(axis='y', color= '#000000', width= line, direction='in', length= 4, which='major', pad=10)\n",
    "#ax.tick_params(axis='x', color= '#000000', width= line, direction='in', length= 4, which='major', pad=12)\n",
    "time_ax = np.arange(base, duration+0.001, 5.0)\n",
    "ax.set_xticks(np.linspace(0, (-base+duration)/fs, len(time_ax)))\n",
    "ax.set_xticklabels(time_ax)\n",
    "\n",
    "ax.plot([-base/fs, -base/fs], list(ax.get_ylim()), 'w', linestyle='--', linewidth=line*1.2, alpha=1., zorder=111)\n",
    "\n",
    "fname = \"J:\\\\Hakan Kucukdereli\\\\Miniscope_Behaviour_MPIN\\\\scripts\\\\figures\\\\first_draft\\\\\"+\"_\"+eventType+ \"_everything_heatmap_\"+str(base)+\"sec.png\"\n",
    "fig.savefig(fname)"
   ]
  },
  {
   "cell_type": "code",
   "execution_count": null,
   "metadata": {
    "collapsed": false
   },
   "outputs": [],
   "source": [
    "# Plot the trial means\n",
    "trialMeans = pd.DataFrame()\n",
    "for trial in range(trials[0], trials[1]+1):\n",
    "    dfMeans = pd.DataFrame()\n",
    "    dfMeans['Mean'] = eventsData.pivot_table(index=['Event', 'Cell'], columns='New_Time').loc[trial].mean().values\n",
    "    dfMeans[\"Sem\"] = eventsData.pivot_table(index=['Event', 'Cell'], columns='New_Time').loc[trial].sem().values\n",
    "    dfMeans['Trial'] = trial\n",
    "    trialMeans = trialMeans.append(dfMeans)\n",
    "\n",
    "fig, ax = plotTrials(trialMeans, time=time, base=base, duration=duration, eventType=eventType, trials=trials, f=3)\n",
    "fname = \"J:\\\\Hakan Kucukdereli\\\\Miniscope_Behaviour_MPIN\\\\scripts\\\\figures\\\\first_draft\\\\\"+\"3_\"+eventType+\"_trial_means_base_\"+str(base)+\"sec.svg\"\n",
    "fig.savefig(fname)"
   ]
  },
  {
   "cell_type": "code",
   "execution_count": null,
   "metadata": {
    "collapsed": true
   },
   "outputs": [],
   "source": []
  },
  {
   "cell_type": "code",
   "execution_count": null,
   "metadata": {
    "collapsed": true
   },
   "outputs": [],
   "source": []
  },
  {
   "cell_type": "code",
   "execution_count": null,
   "metadata": {
    "collapsed": true
   },
   "outputs": [],
   "source": []
  },
  {
   "cell_type": "code",
   "execution_count": null,
   "metadata": {
    "collapsed": true
   },
   "outputs": [],
   "source": []
  },
  {
   "cell_type": "code",
   "execution_count": null,
   "metadata": {
    "collapsed": false
   },
   "outputs": [],
   "source": []
  },
  {
   "cell_type": "code",
   "execution_count": null,
   "metadata": {
    "collapsed": false
   },
   "outputs": [],
   "source": []
  },
  {
   "cell_type": "code",
   "execution_count": null,
   "metadata": {
    "collapsed": true
   },
   "outputs": [],
   "source": []
  },
  {
   "cell_type": "code",
   "execution_count": null,
   "metadata": {
    "collapsed": true
   },
   "outputs": [],
   "source": []
  },
  {
   "cell_type": "code",
   "execution_count": null,
   "metadata": {
    "collapsed": true
   },
   "outputs": [],
   "source": []
  },
  {
   "cell_type": "code",
   "execution_count": null,
   "metadata": {
    "collapsed": true
   },
   "outputs": [],
   "source": []
  },
  {
   "cell_type": "code",
   "execution_count": null,
   "metadata": {
    "collapsed": true
   },
   "outputs": [],
   "source": []
  },
  {
   "cell_type": "code",
   "execution_count": null,
   "metadata": {
    "collapsed": true
   },
   "outputs": [],
   "source": []
  },
  {
   "cell_type": "code",
   "execution_count": null,
   "metadata": {
    "collapsed": true
   },
   "outputs": [],
   "source": []
  }
 ],
 "metadata": {
  "kernelspec": {
   "display_name": "Python 2",
   "language": "python",
   "name": "python2"
  },
  "language_info": {
   "codemirror_mode": {
    "name": "ipython",
    "version": 2
   },
   "file_extension": ".py",
   "mimetype": "text/x-python",
   "name": "python",
   "nbconvert_exporter": "python",
   "pygments_lexer": "ipython2",
   "version": "2.7.11"
  }
 },
 "nbformat": 4,
 "nbformat_minor": 0
}
