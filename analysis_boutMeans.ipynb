{
 "cells": [
  {
   "cell_type": "code",
   "execution_count": 2,
   "metadata": {
    "collapsed": false
   },
   "outputs": [],
   "source": [
    "%matplotlib inline\n",
    "import pandas as pd\n",
    "import numpy as np\n",
    "import scipy.signal as sig\n",
    "import matplotlib.pyplot as plt\n",
    "from imagingIO import loopMice, loadData, loadBeh, getBeh\n",
    "from analysis import dFFcalc\n",
    "from trials import markTrials\n",
    "from bouts import markBouts"
   ]
  },
  {
   "cell_type": "code",
   "execution_count": 138,
   "metadata": {
    "collapsed": false
   },
   "outputs": [
    {
     "data": {
      "text/html": [
       "<div>\n",
       "<table border=\"1\" class=\"dataframe\">\n",
       "  <thead>\n",
       "    <tr style=\"text-align: right;\">\n",
       "      <th></th>\n",
       "      <th>Behaviour</th>\n",
       "      <th>Data</th>\n",
       "      <th>Mouse</th>\n",
       "      <th>Session</th>\n",
       "      <th>Type</th>\n",
       "    </tr>\n",
       "  </thead>\n",
       "  <tbody>\n",
       "    <tr>\n",
       "      <th>6838</th>\n",
       "      <td>J:\\Hakan Kucukdereli\\Miniscope_Behaviour_MPIN\\...</td>\n",
       "      <td>J:\\Hakan Kucukdereli\\Miniscope_Behaviour_MPIN\\...</td>\n",
       "      <td>6838</td>\n",
       "      <td>1</td>\n",
       "      <td>FF</td>\n",
       "    </tr>\n",
       "    <tr>\n",
       "      <th>6874</th>\n",
       "      <td>J:\\Hakan Kucukdereli\\Miniscope_Behaviour_MPIN\\...</td>\n",
       "      <td>J:\\Hakan Kucukdereli\\Miniscope_Behaviour_MPIN\\...</td>\n",
       "      <td>6874</td>\n",
       "      <td>1</td>\n",
       "      <td>FF</td>\n",
       "    </tr>\n",
       "    <tr>\n",
       "      <th>7104</th>\n",
       "      <td>J:\\Hakan Kucukdereli\\Miniscope_Behaviour_MPIN\\...</td>\n",
       "      <td>J:\\Hakan Kucukdereli\\Miniscope_Behaviour_MPIN\\...</td>\n",
       "      <td>7104</td>\n",
       "      <td>1</td>\n",
       "      <td>FF</td>\n",
       "    </tr>\n",
       "    <tr>\n",
       "      <th>7105</th>\n",
       "      <td>J:\\Hakan Kucukdereli\\Miniscope_Behaviour_MPIN\\...</td>\n",
       "      <td>J:\\Hakan Kucukdereli\\Miniscope_Behaviour_MPIN\\...</td>\n",
       "      <td>7105</td>\n",
       "      <td>1</td>\n",
       "      <td>FF</td>\n",
       "    </tr>\n",
       "  </tbody>\n",
       "</table>\n",
       "</div>"
      ],
      "text/plain": [
       "                                              Behaviour  \\\n",
       "6838  J:\\Hakan Kucukdereli\\Miniscope_Behaviour_MPIN\\...   \n",
       "6874  J:\\Hakan Kucukdereli\\Miniscope_Behaviour_MPIN\\...   \n",
       "7104  J:\\Hakan Kucukdereli\\Miniscope_Behaviour_MPIN\\...   \n",
       "7105  J:\\Hakan Kucukdereli\\Miniscope_Behaviour_MPIN\\...   \n",
       "\n",
       "                                                   Data Mouse Session Type  \n",
       "6838  J:\\Hakan Kucukdereli\\Miniscope_Behaviour_MPIN\\...  6838       1   FF  \n",
       "6874  J:\\Hakan Kucukdereli\\Miniscope_Behaviour_MPIN\\...  6874       1   FF  \n",
       "7104  J:\\Hakan Kucukdereli\\Miniscope_Behaviour_MPIN\\...  7104       1   FF  \n",
       "7105  J:\\Hakan Kucukdereli\\Miniscope_Behaviour_MPIN\\...  7105       1   FF  "
      ]
     },
     "execution_count": 138,
     "metadata": {},
     "output_type": "execute_result"
    }
   ],
   "source": [
    "# Start running the analysis\n",
    "#mice = [(8404, 6), (8857, 2), (8864, 1)]\n",
    "mice = [(6838, 1), (6874, 1), (7104, 1), (7105, 1)]\n",
    "behType = 'FF'\n",
    "fileList = loopMice(mice, behType)\n",
    "fileList"
   ]
  },
  {
   "cell_type": "code",
   "execution_count": 139,
   "metadata": {
    "collapsed": false
   },
   "outputs": [],
   "source": [
    "eventList, hitsList, missesList = getBeh(mice, fileList['Behaviour'], behType)"
   ]
  },
  {
   "cell_type": "code",
   "execution_count": 141,
   "metadata": {
    "collapsed": true
   },
   "outputs": [],
   "source": [
    "fs = 0.05\n",
    "base = 5.0\n",
    "duration = 25.0\n",
    "eventType = ['Eating_Start', 'Eating_End']\n",
    "trials=[1,-1]"
   ]
  },
  {
   "cell_type": "code",
   "execution_count": 142,
   "metadata": {
    "collapsed": false
   },
   "outputs": [
    {
     "name": "stdout",
     "output_type": "stream",
     "text": [
      "\n",
      "4  mice were loaded.\n",
      "Mouse number 6838  had  nan  total rewards.\n",
      "Mouse number 6874  had  nan  total rewards.\n",
      "Mouse number 7104  had  nan  total rewards.\n",
      "Mouse number 7105  had  nan  total rewards.\n",
      "\n",
      "Traces were not baselined.\n"
     ]
    }
   ],
   "source": [
    "boutsData = markBouts(mice, eventType=eventType, trials=trials, dff= True, baseline=False)"
   ]
  },
  {
   "cell_type": "code",
   "execution_count": 143,
   "metadata": {
    "collapsed": true
   },
   "outputs": [],
   "source": [
    "# Save the average dF/F from each bout\n",
    "df=boutsData.pivot_table(index='Cell', columns='Event', aggfunc=np.mean)['Fluoro'].T\n",
    "filepath = \"J:\\\\Hakan Kucukdereli\\\\Miniscope_Behaviour_MPIN\\\\scripts\\\\boutDataNoBase_FF.csv\"\n",
    "df.to_csv(filepath)"
   ]
  },
  {
   "cell_type": "code",
   "execution_count": 79,
   "metadata": {
    "collapsed": true
   },
   "outputs": [],
   "source": [
    "durationList = {}\n",
    "for mus, sess in mice:\n",
    "    duration = eventList[mus]['Eating_End'] - eventList[mus]['Eating_Start']\n",
    "    durationList[mus] = duration\n",
    "durationData = pd.concat(durationList, axis=1)"
   ]
  },
  {
   "cell_type": "code",
   "execution_count": 81,
   "metadata": {
    "collapsed": false
   },
   "outputs": [],
   "source": [
    "filepath = \"J:\\\\Hakan Kucukdereli\\\\Miniscope_Behaviour_MPIN\\\\scripts\\\\durationData_FF.csv\"\n",
    "durationData.to_csv(filepath)"
   ]
  },
  {
   "cell_type": "code",
   "execution_count": null,
   "metadata": {
    "collapsed": true
   },
   "outputs": [],
   "source": []
  }
 ],
 "metadata": {
  "kernelspec": {
   "display_name": "Python 2",
   "language": "python",
   "name": "python2"
  },
  "language_info": {
   "codemirror_mode": {
    "name": "ipython",
    "version": 2
   },
   "file_extension": ".py",
   "mimetype": "text/x-python",
   "name": "python",
   "nbconvert_exporter": "python",
   "pygments_lexer": "ipython2",
   "version": "2.7.11"
  }
 },
 "nbformat": 4,
 "nbformat_minor": 0
}
