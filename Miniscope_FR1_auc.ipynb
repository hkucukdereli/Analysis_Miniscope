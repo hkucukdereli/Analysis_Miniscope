{
 "cells": [
  {
   "cell_type": "code",
   "execution_count": 1,
   "metadata": {
    "collapsed": false
   },
   "outputs": [],
   "source": [
    "%matplotlib inline\n",
    "import pandas as pd\n",
    "import numpy as np\n",
    "import matplotlib.pyplot as plt\n",
    "import matplotlib.patches as mpatches\n",
    "from imagingIO import loopMice, loadData, loadBeh, getBeh\n",
    "from analysis import dffCalc, filtData, smoothData\n",
    "from events import getEvents\n",
    "from trials import markTrials\n",
    "from bouts import getBouts, getBoutDur, getBouts_\n",
    "from statistics import stdCalc, getBoutMeans, getStats, getBoutMeans_\n",
    "from plotter import plotMean, plotHeat, plotTrials"
   ]
  },
  {
   "cell_type": "code",
   "execution_count": 2,
   "metadata": {
    "collapsed": true
   },
   "outputs": [],
   "source": [
    "# Start gathering the data from FR1 exp\n",
    "# Mice\n",
    "mice = [(8404,6), (8857, 3), (8864, 1)]\n",
    "# Parameters\n",
    "behType = 'FR1'\n",
    "fs = 0.05\n",
    "trials=[1,12]"
   ]
  },
  {
   "cell_type": "code",
   "execution_count": 3,
   "metadata": {
    "collapsed": true
   },
   "outputs": [],
   "source": [
    "# Get file paths\n",
    "fileList = loopMice(mice, behType)\n",
    "\n",
    "# Load the data\n",
    "dataList = loadData(mice, behType)\n",
    "\n",
    "# Load the behaviour\n",
    "eventList = getBeh(mice, fileList['Behaviour'], behType)"
   ]
  },
  {
   "cell_type": "code",
   "execution_count": 4,
   "metadata": {
    "collapsed": false
   },
   "outputs": [],
   "source": [
    "# FIlter and dFF\n",
    "filtList = filtData(mice, dffCalc(mice, dataList, lowest=False), cutoff=3.0, order=6)\n",
    "dFFList = smoothData(mice, filtList, window=5)"
   ]
  },
  {
   "cell_type": "code",
   "execution_count": null,
   "metadata": {
    "collapsed": false
   },
   "outputs": [],
   "source": [
    "# Start running the analysis for Fixed-Ratio\n",
    "# Baseline before Eat_Start and compare to the eating bout\n",
    "#base = -5.0\n",
    "#duration = 30.0\n",
    "\n",
    "# Eating bout first half\n",
    "Start = getEvents(mice, eventList, 'Eat_Start', trials)\n",
    "End = getEvents(mice, eventList, 'Eat_End', trials)\n",
    "eventStart = Start\n",
    "eventEnd = Start+((End-Start)/2)\n",
    "baseEvent = Start\n",
    "# Baseline equal to the event duration\n",
    "base = Start-End\n",
    "\n",
    "boutsData =  getBouts_(mice, dFFList, eventStart, eventEnd, baseEvent, base, behType, trials, baselining=False)\n",
    "boutMeansFR1 = getBoutMeans_(mice, boutsData, behType=behType, trials=trials, base=base, fs=fs)"
   ]
  },
  {
   "cell_type": "code",
   "execution_count": null,
   "metadata": {
    "collapsed": false
   },
   "outputs": [],
   "source": [
    "[statsFR1, percFR1] = getStats(boutMeansFR1, choice='Wilcoxon', parameter='Mean', p_val=0.05)\n",
    "percFR1"
   ]
  },
  {
   "cell_type": "code",
   "execution_count": null,
   "metadata": {
    "collapsed": false,
    "scrolled": true
   },
   "outputs": [],
   "source": [
    "statsFR1"
   ]
  },
  {
   "cell_type": "code",
   "execution_count": null,
   "metadata": {
    "collapsed": false
   },
   "outputs": [],
   "source": [
    "percFR1"
   ]
  },
  {
   "cell_type": "code",
   "execution_count": null,
   "metadata": {
    "collapsed": false
   },
   "outputs": [],
   "source": [
    "(boutMeansFR1['Bout_Auc'] - boutMeansFR1['Baseline_Auc']) / boutMeansFR1['Trace_Auc']"
   ]
  },
  {
   "cell_type": "code",
   "execution_count": null,
   "metadata": {
    "collapsed": true
   },
   "outputs": [],
   "source": []
  },
  {
   "cell_type": "code",
   "execution_count": null,
   "metadata": {
    "collapsed": false,
    "scrolled": true
   },
   "outputs": [],
   "source": [
    "# Start running the analysis for Fixed-Ratio\n",
    "# Baseline before Eat_Start and compare to the eating bout\n",
    "base = -5.0\n",
    "duration = 30.0\n",
    "\n",
    "eventStart = getEvents(mice, eventList, 'Eat_Start', trials)\n",
    "eventEnd = getEvents(mice, eventList, 'Eat_End', trials)\n",
    "baseEvent = getEvents(mice, eventList, 'Eat_Start', trials)\n",
    "\n",
    "boutsData =  getBouts(mice, dFFList, eventStart, eventEnd, baseEvent, base, behType, trials, baselining=True)\n",
    "boutMeansFR1 = getBoutMeans(mice, boutsData, behType=behType, trials=trials, base=base, fs=fs)\n",
    "\n",
    "[statsFR1, percFR1] = getStats(boutMeansFR1, choice='Wilcoxon', parameter='Auc', p_val=0.05)\n",
    "\n",
    "print percFR1['Up']/percFR1['Down']\n",
    "percFR1"
   ]
  },
  {
   "cell_type": "code",
   "execution_count": null,
   "metadata": {
    "collapsed": false
   },
   "outputs": [],
   "source": [
    "# Start running the analysis for Fixed-Ratio\n",
    "# Baseline before Eat_Start and compare to the eating bout\n",
    "base = -10.0\n",
    "duration = 30.0\n",
    "\n",
    "eventStart = getEvents(mice, eventList, 'Eat_Start', trials)\n",
    "eventEnd = getEvents(mice, eventList, 'Eat_End', trials)\n",
    "baseEvent = getEvents(mice, eventList, 'Eat_Start', trials)\n",
    "\n",
    "boutsData =  getBouts(mice, dFFList, eventStart, eventEnd, baseEvent, base, behType, trials, baselining=True)\n",
    "boutMeansFR1 = getBoutMeans(mice, boutsData, behType=behType, trials=trials, base=base, fs=fs)\n",
    "\n",
    "[statsFR1, percFR1] = getStats(boutMeansFR1, choice='Wilcoxon', parameter='Auc', p_val=0.05)\n",
    "\n",
    "percFR1"
   ]
  },
  {
   "cell_type": "code",
   "execution_count": null,
   "metadata": {
    "collapsed": false,
    "scrolled": true
   },
   "outputs": [],
   "source": [
    "# Start running the analysis for Fixed-Ratio\n",
    "# Baseline before Eat_Start and compare to the eating bout\n",
    "base = -10.0\n",
    "duration = 30.0\n",
    "\n",
    "eventStart = getEvents(mice, eventList, 'Eat_Start', trials)\n",
    "eventEnd = getEvents(mice, eventList, 'Eat_End', trials)\n",
    "baseEvent = getEvents(mice, eventList, 'Eat_Start', trials)\n",
    "\n",
    "boutsData =  getBouts(mice, dFFList, eventStart, eventEnd, baseEvent, base, behType, trials, baselining=False)\n",
    "boutMeansFR1 = getBoutMeans(mice, boutsData, behType=behType, trials=trials, base=base, fs=fs)\n",
    "\n",
    "[statsFR1, percFR1] = getStats(boutMeansFR1, choice='Ranksum', parameter='Mean', p_val=0.05)\n",
    "\n",
    "percFR1"
   ]
  },
  {
   "cell_type": "code",
   "execution_count": null,
   "metadata": {
    "collapsed": false
   },
   "outputs": [],
   "source": [
    "# Start running the analysis for Fixed-Ratio\n",
    "# Baseline before Eat_Start and compare to the eating bout\n",
    "base = -10.0\n",
    "duration = 30.0\n",
    "\n",
    "eventStart = getEvents(mice, eventList, 'Eat_Start', trials)\n",
    "eventEnd = getEvents(mice, eventList, 'Eat_End', trials)\n",
    "baseEvent = getEvents(mice, eventList, 'Eat_Start', trials)\n",
    "\n",
    "boutsData =  getBouts(mice, dFFList, eventStart, eventEnd, baseEvent, base, behType, trials, baselining=True)\n",
    "boutMeansFR1 = getBoutMeans(mice, boutsData, behType=behType, trials=trials, base=base, fs=fs)\n",
    "\n",
    "[statsFR1, percFR1] = getStats(boutMeansFR1, choice='Ranksum', parameter='Auc', p_val=0.05)\n",
    "\n",
    "percFR1"
   ]
  },
  {
   "cell_type": "code",
   "execution_count": null,
   "metadata": {
    "collapsed": true
   },
   "outputs": [],
   "source": []
  },
  {
   "cell_type": "code",
   "execution_count": null,
   "metadata": {
    "collapsed": true
   },
   "outputs": [],
   "source": []
  },
  {
   "cell_type": "code",
   "execution_count": null,
   "metadata": {
    "collapsed": true
   },
   "outputs": [],
   "source": []
  },
  {
   "cell_type": "code",
   "execution_count": null,
   "metadata": {
    "collapsed": true
   },
   "outputs": [],
   "source": []
  },
  {
   "cell_type": "code",
   "execution_count": null,
   "metadata": {
    "collapsed": false,
    "scrolled": true
   },
   "outputs": [],
   "source": [
    "# Start running the analysis for Fixed-Ratio\n",
    "# Baseline before Eat_Start and compare to the eating bout\n",
    "base = -5.0\n",
    "duration = 30.0\n",
    "\n",
    "# Eating bout first half\n",
    "Start = getEvents(mice, eventList, 'Eat_Start', trials)\n",
    "End = getEvents(mice, eventList, 'Eat_End', trials)\n",
    "eventStart = Start\n",
    "eventEnd = Start+(End-Start)/2\n",
    "# Fixed baseline length\n",
    "baseEvent = Start\n",
    "\n",
    "boutsData =  getBouts(mice, dFFList, eventStart, eventEnd, baseEvent, base, behType, trials, baselining=True)\n",
    "boutMeansFR1 = getBoutMeans_(mice, boutsData, behType=behType, trials=trials, base=base, fs=fs)\n",
    "\n",
    "[statsFR1, percFR1] = getStats(boutMeansFR1, choice='Ranksum', parameter='Mean', p_val=0.05)\n",
    "\n",
    "print percFR1['Up']/percFR1['Down']\n",
    "percFR1"
   ]
  },
  {
   "cell_type": "code",
   "execution_count": null,
   "metadata": {
    "collapsed": false,
    "scrolled": true
   },
   "outputs": [],
   "source": [
    "# Start running the analysis for Fixed-Ratio\n",
    "# Baseline before Eat_Start and compare to the eating bout\n",
    "base = -5.0\n",
    "#duration = 30.0\n",
    "\n",
    "# Eating bout last half\n",
    "Start = getEvents(mice, eventList, 'Eat_Start', trials)\n",
    "End = getEvents(mice, eventList, 'Eat_End', trials)\n",
    "eventStart = End-(End-Start)/2\n",
    "eventEnd = End\n",
    "# Fixed baseline length\n",
    "baseEvent = Start\n",
    "\n",
    "boutsData =  getBouts(mice, dFFList, eventStart, eventEnd, baseEvent, base, behType, trials, baselining=False)\n",
    "boutMeansFR1 = getBoutMeans_(mice, boutsData, behType=behType, trials=trials, base=base, fs=fs)\n",
    "\n",
    "[statsFR1, percFR1] = getStats(boutMeansFR1, choice='Ranksum', parameter='Mean', p_val=0.05)\n",
    "\n",
    "print percFR1['Up']/percFR1['Down']\n",
    "percFR1"
   ]
  },
  {
   "cell_type": "code",
   "execution_count": null,
   "metadata": {
    "collapsed": false
   },
   "outputs": [],
   "source": [
    "# Start running the analysis for Fixed-Ratio\n",
    "# Baseline before Eat_Start and compare to the eating bout\n",
    "base = -5.0\n",
    "#duration = 30.0\n",
    "\n",
    "# Eating bout first half\n",
    "Start = getEvents(mice, eventList, 'Eat_Start', trials)\n",
    "End = getEvents(mice, eventList, 'Eat_End', trials)\n",
    "eventStart = Start\n",
    "eventEnd = End\n",
    "# Fixed baseline length\n",
    "baseEvent = Start\n",
    "\n",
    "boutsData =  getBouts(mice, dFFList, eventStart, eventEnd, baseEvent, base, behType, trials, baselining=True)\n",
    "boutMeansFR1 = getBoutMeans_(mice, boutsData, behType=behType, trials=trials, base=base, fs=fs)\n",
    "\n",
    "[statsFR1, percFR1] = getStats(boutMeansFR1, choice='Ranksum', parameter='Mean', p_val=0.05)\n",
    "\n",
    "print percFR1['Up']/percFR1['Down']\n",
    "percFR1"
   ]
  },
  {
   "cell_type": "code",
   "execution_count": null,
   "metadata": {
    "collapsed": false
   },
   "outputs": [],
   "source": []
  },
  {
   "cell_type": "code",
   "execution_count": null,
   "metadata": {
    "collapsed": true
   },
   "outputs": [],
   "source": [
    "# First half"
   ]
  },
  {
   "cell_type": "code",
   "execution_count": 6,
   "metadata": {
    "collapsed": false,
    "scrolled": true
   },
   "outputs": [
    {
     "name": "stdout",
     "output_type": "stream",
     "text": [
      "\n",
      "3  mice were loaded.\n",
      "\n",
      "Traces were not baselined.\n",
      "Percentage (%)    1.6\n",
      "dtype: float64\n"
     ]
    },
    {
     "data": {
      "text/html": [
       "<div>\n",
       "<table border=\"1\" class=\"dataframe\">\n",
       "  <thead>\n",
       "    <tr style=\"text-align: right;\">\n",
       "      <th></th>\n",
       "      <th>Down</th>\n",
       "      <th>None</th>\n",
       "      <th>Up</th>\n",
       "    </tr>\n",
       "  </thead>\n",
       "  <tbody>\n",
       "    <tr>\n",
       "      <th>Percentage (%)</th>\n",
       "      <td>13.888889</td>\n",
       "      <td>63.888889</td>\n",
       "      <td>22.222222</td>\n",
       "    </tr>\n",
       "  </tbody>\n",
       "</table>\n",
       "</div>"
      ],
      "text/plain": [
       "                     Down       None         Up\n",
       "Percentage (%)  13.888889  63.888889  22.222222"
      ]
     },
     "execution_count": 6,
     "metadata": {},
     "output_type": "execute_result"
    }
   ],
   "source": [
    "# Start running the analysis for Fixed-Ratio\n",
    "# Baseline before Eat_Start and compare to the eating bout\n",
    "#base = -5.0\n",
    "#duration = 30.0\n",
    "\n",
    "# Eating bout first half\n",
    "Start = getEvents(mice, eventList, 'Eat_Start', trials)\n",
    "End = getEvents(mice, eventList, 'Eat_End', trials)\n",
    "eventStart = Start\n",
    "eventEnd = Start+((End-Start)/2)\n",
    "baseEvent = Start\n",
    "# Baseline equal to the event duration\n",
    "base = Start-End\n",
    "\n",
    "boutsData =  getBouts_(mice, dFFList, eventStart, eventEnd, baseEvent, base, behType, trials, baselining=False)\n",
    "boutMeansFR1 = getBoutMeans_(mice, boutsData, behType=behType, trials=trials, base=base, fs=fs)\n",
    "\n",
    "[statsFR1, percFR1] = getStats(boutMeansFR1, choice='Ranksum', parameter='Mean', p_val=0.05)\n",
    "\n",
    "print percFR1['Up']/percFR1['Down']\n",
    "percFR1"
   ]
  },
  {
   "cell_type": "code",
   "execution_count": null,
   "metadata": {
    "collapsed": false
   },
   "outputs": [],
   "source": [
    "statsFR1"
   ]
  },
  {
   "cell_type": "code",
   "execution_count": null,
   "metadata": {
    "collapsed": false
   },
   "outputs": [],
   "source": [
    "boutMeansFR1"
   ]
  },
  {
   "cell_type": "code",
   "execution_count": null,
   "metadata": {
    "collapsed": false
   },
   "outputs": [],
   "source": [
    "# Start running the analysis for Fixed-Ratio\n",
    "# Baseline before Eat_Start and compare to the eating bout\n",
    "#base = -5.0\n",
    "#duration = 30.0\n",
    "\n",
    "# Eating bout first half\n",
    "Start = getEvents(mice, eventList, 'Eat_Start', trials)\n",
    "End = getEvents(mice, eventList, 'Eat_End', trials)\n",
    "eventStart = Start\n",
    "eventEnd = Start+((End-Start)/2)\n",
    "baseEvent = Start\n",
    "# Baseline equal to the event duration\n",
    "base = Start-End\n",
    "\n",
    "boutsData =  getBouts_(mice, dFFList, eventStart, eventEnd, baseEvent, base, behType, trials, baselining=True)\n",
    "boutMeansFR1 = getBoutMeans_(mice, boutsData, behType=behType, trials=trials, base=base, fs=fs)\n",
    "\n",
    "[statsFR1, percFR1] = getStats(boutMeansFR1, choice='Wilcoxon', parameter='Auc', p_val=0.05)\n",
    "\n",
    "print percFR1['Up']/percFR1['Down']\n",
    "percFR1"
   ]
  },
  {
   "cell_type": "code",
   "execution_count": null,
   "metadata": {
    "collapsed": false
   },
   "outputs": [],
   "source": []
  },
  {
   "cell_type": "code",
   "execution_count": null,
   "metadata": {
    "collapsed": true
   },
   "outputs": [],
   "source": [
    "# Second half"
   ]
  },
  {
   "cell_type": "code",
   "execution_count": null,
   "metadata": {
    "collapsed": false
   },
   "outputs": [],
   "source": [
    "# Start running the analysis for Fixed-Ratio\n",
    "# Baseline before Eat_Start and compare to the eating bout\n",
    "#base = -5.0\n",
    "#duration = 30.0\n",
    "\n",
    "# Eating bout second half\n",
    "Start = getEvents(mice, eventList, 'Eat_Start', trials)\n",
    "End = getEvents(mice, eventList, 'Eat_End', trials)\n",
    "eventStart = End-((End-Start)/2)\n",
    "eventEnd = End\n",
    "baseEvent = Start\n",
    "# Baseline equal to the event duration\n",
    "base = Start-End\n",
    "\n",
    "boutsData =  getBouts_(mice, dFFList, eventStart, eventEnd, baseEvent, base, behType, trials, baselining=False)\n",
    "boutMeansFR1 = getBoutMeans_(mice, boutsData, behType=behType, trials=trials, base=base, fs=fs)\n",
    "\n",
    "[statsFR1, percFR1] = getStats(boutMeansFR1, choice='Wilcoxon', parameter='Auc', p_val=0.05)\n",
    "\n",
    "print percFR1['Up']/percFR1['Down']\n",
    "percFR1"
   ]
  },
  {
   "cell_type": "code",
   "execution_count": null,
   "metadata": {
    "collapsed": false
   },
   "outputs": [],
   "source": [
    "# Start running the analysis for Fixed-Ratio\n",
    "# Baseline before Eat_Start and compare to the eating bout\n",
    "#base = -5.0\n",
    "#duration = 30.0\n",
    "\n",
    "# Eating bout second half\n",
    "Start = getEvents(mice, eventList, 'Eat_Start', trials)\n",
    "End = getEvents(mice, eventList, 'Eat_End', trials)\n",
    "eventStart = End-((End-Start)/2)\n",
    "eventEnd = End\n",
    "baseEvent = Start\n",
    "# Baseline equal to the event duration\n",
    "base = Start-End\n",
    "\n",
    "boutsData =  getBouts_(mice, dFFList, eventStart, eventEnd, baseEvent, base, behType, trials, baselining=True)\n",
    "boutMeansFR1 = getBoutMeans_(mice, boutsData, behType=behType, trials=trials, base=base, fs=fs)\n",
    "\n",
    "[statsFR1, percFR1] = getStats(boutMeansFR1, choice='Wilcoxon', parameter='Auc', p_val=0.05)\n",
    "\n",
    "print percFR1['Up']/percFR1['Down']\n",
    "percFR1"
   ]
  },
  {
   "cell_type": "code",
   "execution_count": null,
   "metadata": {
    "collapsed": false
   },
   "outputs": [],
   "source": []
  },
  {
   "cell_type": "code",
   "execution_count": null,
   "metadata": {
    "collapsed": true
   },
   "outputs": [],
   "source": [
    "# Whole bout"
   ]
  },
  {
   "cell_type": "code",
   "execution_count": null,
   "metadata": {
    "collapsed": false
   },
   "outputs": [],
   "source": [
    "# Start running the analysis for Fixed-Ratio\n",
    "# Baseline before Eat_Start and compare to the eating bout\n",
    "#base = -5.0\n",
    "#duration = 30.0\n",
    "\n",
    "# Eating bout\n",
    "Start = getEvents(mice, eventList, 'Eat_Start', trials)\n",
    "End = getEvents(mice, eventList, 'Eat_End', trials)\n",
    "eventStart = Start\n",
    "eventEnd = End\n",
    "baseEvent = Start\n",
    "# Baseline equal to the event duration\n",
    "base = Start-End\n",
    "\n",
    "boutsData =  getBouts_(mice, dFFList, eventStart, eventEnd, baseEvent, base, behType, trials, baselining=False)\n",
    "#boutsData =  getBouts(mice, dFFList, eventStart, eventEnd, baseEvent, base, behType, trials, baselining=False)\n",
    "boutMeansFR1 = getBoutMeans_(mice, boutsData, behType=behType, trials=trials, base=base, fs=fs)\n",
    "\n",
    "[statsFR1, percFR1] = getStats(boutMeansFR1, choice='Wilcoxon', parameter='Auc', p_val=0.05)\n",
    "\n",
    "print percFR1['Up']/percFR1['Down']\n",
    "percFR1"
   ]
  },
  {
   "cell_type": "code",
   "execution_count": null,
   "metadata": {
    "collapsed": false
   },
   "outputs": [],
   "source": [
    "# Start running the analysis for Fixed-Ratio\n",
    "# Baseline before Eat_Start and compare to the eating bout\n",
    "#base = -5.0\n",
    "#duration = 30.0\n",
    "\n",
    "# Eating bout\n",
    "Start = getEvents(mice, eventList, 'Eat_Start', trials)\n",
    "End = getEvents(mice, eventList, 'Eat_End', trials)\n",
    "eventStart = Start\n",
    "eventEnd = End\n",
    "baseEvent = Start\n",
    "# Baseline equal to the event duration\n",
    "base = Start-End\n",
    "\n",
    "boutsData =  getBouts_(mice, dFFList, eventStart, eventEnd, baseEvent, base, behType, trials, baselining=True)\n",
    "#boutsData =  getBouts(mice, dFFList, eventStart, eventEnd, baseEvent, base, behType, trials, baselining=False)\n",
    "boutMeansFR1 = getBoutMeans_(mice, boutsData, behType=behType, trials=trials, base=base, fs=fs)\n",
    "\n",
    "[statsFR1, percFR1] = getStats(boutMeansFR1, choice='Wilcoxon', parameter='Auc', p_val=0.05)\n",
    "\n",
    "print percFR1['Up']/percFR1['Down']\n",
    "percFR1"
   ]
  },
  {
   "cell_type": "code",
   "execution_count": null,
   "metadata": {
    "collapsed": true
   },
   "outputs": [],
   "source": []
  },
  {
   "cell_type": "code",
   "execution_count": null,
   "metadata": {
    "collapsed": false
   },
   "outputs": [],
   "source": []
  },
  {
   "cell_type": "code",
   "execution_count": null,
   "metadata": {
    "collapsed": true
   },
   "outputs": [],
   "source": []
  },
  {
   "cell_type": "code",
   "execution_count": null,
   "metadata": {
    "collapsed": false
   },
   "outputs": [],
   "source": [
    "stdList = pd.DataFrame()\n",
    "for mus, sess in mice:\n",
    "    std = pd.DataFrame({'Std' : dFFList[mus].std().values}, index=dFFList[mus].std().index)\n",
    "    std['Mouse'] = mus\n",
    "    stdList = stdList.append(std)"
   ]
  },
  {
   "cell_type": "code",
   "execution_count": null,
   "metadata": {
    "collapsed": false,
    "scrolled": true
   },
   "outputs": [],
   "source": [
    "# Table of event means\n",
    "boutMeansFR1.pivot_table(index='Cell')\n",
    "difference = pd.DataFrame({'Difference':boutMeansFR1.pivot_table(index='Cell')['Bout_Mean'].values - boutMeansFR1.pivot_table(index='Cell')['Baseline_Mean'].values}, \n",
    "              index=boutMeansFR1.pivot_table(index='Cell').index)\n",
    "\n",
    "stdList['Difference'] = np.zeros(len(stdList)) \n",
    "#pd.concat(stdList, difference)\n",
    "for cell in stdList.index:\n",
    "    stdList['Difference'].loc[cell] = difference.loc[cell].values\n"
   ]
  },
  {
   "cell_type": "code",
   "execution_count": null,
   "metadata": {
    "collapsed": false,
    "scrolled": true
   },
   "outputs": [],
   "source": [
    "trace = boutsData.reset_index(drop=True).pivot_table(index=['Event'], columns=['Cell', 'New_Time'], values='Fluoro')[cell].T[1].dropna() \n",
    "\n",
    "upPoint = trace[trace > stdList['Std'].loc[cell]].index[0].round(2)\n",
    "slopeChange = np.sign(trace.diff()) + np.sign(trace.diff()).shift()\n",
    "eventRise = slopeChange[slopeChange == 0].index[slopeChange[slopeChange == 0].index < upPoint][-1]\n",
    "\n",
    "np.round(eventRise, 2)"
   ]
  },
  {
   "cell_type": "code",
   "execution_count": null,
   "metadata": {
    "collapsed": true
   },
   "outputs": [],
   "source": []
  }
 ],
 "metadata": {
  "anaconda-cloud": {},
  "kernelspec": {
   "display_name": "Python 2",
   "language": "python",
   "name": "python2"
  },
  "language_info": {
   "codemirror_mode": {
    "name": "ipython",
    "version": 2
   },
   "file_extension": ".py",
   "mimetype": "text/x-python",
   "name": "python",
   "nbconvert_exporter": "python",
   "pygments_lexer": "ipython2",
   "version": "2.7.11"
  }
 },
 "nbformat": 4,
 "nbformat_minor": 0
}
