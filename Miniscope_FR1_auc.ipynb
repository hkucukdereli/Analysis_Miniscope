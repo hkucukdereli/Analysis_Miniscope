{
 "cells": [
  {
   "cell_type": "code",
   "execution_count": 17,
   "metadata": {
    "collapsed": true
   },
   "outputs": [],
   "source": [
    "%matplotlib inline\n",
    "import pandas as pd\n",
    "import numpy as np\n",
    "import matplotlib.pyplot as plt\n",
    "import matplotlib.patches as mpatches\n",
    "from imagingIO import loopMice, loadData, loadBeh, getBeh\n",
    "from analysis import dffCalc, filtData, smoothData\n",
    "from events import getEvents\n",
    "from trials import markTrials\n",
    "from bouts import getBouts, getBoutDur, markBouts\n",
    "from statistics import stdCalc, getBoutMeans, getStats\n",
    "from plotter import plotMean, plotHeat, plotTrials"
   ]
  },
  {
   "cell_type": "code",
   "execution_count": 18,
   "metadata": {
    "collapsed": true
   },
   "outputs": [],
   "source": [
    "# Start gathering the data from FR1 exp\n",
    "# Mice\n",
    "mice = [(8404,6), (8857, 3), (8864, 1)]\n",
    "# Parameters\n",
    "behType = 'FR1'\n",
    "fs = 0.05\n",
    "trials=[1,12]"
   ]
  },
  {
   "cell_type": "code",
   "execution_count": 19,
   "metadata": {
    "collapsed": true
   },
   "outputs": [],
   "source": [
    "# Get file paths\n",
    "fileList = loopMice(mice, behType)\n",
    "\n",
    "# Load the data\n",
    "dataList = loadData(mice, behType)\n",
    "\n",
    "# Load the behaviour\n",
    "eventList = getBeh(mice, fileList['Behaviour'], behType)"
   ]
  },
  {
   "cell_type": "code",
   "execution_count": 20,
   "metadata": {
    "collapsed": false
   },
   "outputs": [],
   "source": [
    "# FIlter and dFF\n",
    "filtList = filtData(mice, dffCalc(mice, dataList, lowest=False), cutoff=3.0, order=6)\n",
    "dFFList = smoothData(mice, filtList, window=5)"
   ]
  },
  {
   "cell_type": "code",
   "execution_count": 29,
   "metadata": {
    "collapsed": false,
    "scrolled": true
   },
   "outputs": [
    {
     "name": "stdout",
     "output_type": "stream",
     "text": [
      "\n",
      "3  mice were loaded.\n",
      "\n",
      "Traces were not baselined.\n"
     ]
    },
    {
     "data": {
      "text/html": [
       "<div>\n",
       "<table border=\"1\" class=\"dataframe\">\n",
       "  <thead>\n",
       "    <tr style=\"text-align: right;\">\n",
       "      <th></th>\n",
       "      <th>Down</th>\n",
       "      <th>None</th>\n",
       "      <th>Up</th>\n",
       "    </tr>\n",
       "  </thead>\n",
       "  <tbody>\n",
       "    <tr>\n",
       "      <th>Percentage (%)</th>\n",
       "      <td>36.111111</td>\n",
       "      <td>0.0</td>\n",
       "      <td>63.888889</td>\n",
       "    </tr>\n",
       "  </tbody>\n",
       "</table>\n",
       "</div>"
      ],
      "text/plain": [
       "                     Down  None         Up\n",
       "Percentage (%)  36.111111   0.0  63.888889"
      ]
     },
     "execution_count": 29,
     "metadata": {},
     "output_type": "execute_result"
    }
   ],
   "source": [
    "# Start running the analysis for Fixed-Ratio\n",
    "# Baseline before Eat_Start and compare to the eating bout\n",
    "base = -10.0\n",
    "duration = 30.0\n",
    "\n",
    "eventStart = getEvents(mice, eventList, 'Eat_Start', trials)\n",
    "eventEnd = getEvents(mice, eventList, 'Eat_End', trials)\n",
    "baseEvent = getEvents(mice, eventList, 'Eat_Start', trials)\n",
    "\n",
    "boutsData =  getBouts(mice, dFFList, eventStart, eventEnd, baseEvent, base, behType, trials, baselining=False)\n",
    "boutMeansFR1 = getBoutMeans(mice, boutsData, behType=behType, trials=trials, base=base, fs=fs)\n",
    "\n",
    "[statsFR1, percFR1] = getStats(boutMeansFR1, choice='Wilcoxon', parameter='Auc', p_val=0.05)\n",
    "\n",
    "percFR1"
   ]
  },
  {
   "cell_type": "code",
   "execution_count": 30,
   "metadata": {
    "collapsed": false
   },
   "outputs": [
    {
     "name": "stdout",
     "output_type": "stream",
     "text": [
      "\n",
      "3  mice were loaded.\n",
      "\n",
      "Baseline was set -10.0 sec before the event.\n"
     ]
    },
    {
     "data": {
      "text/html": [
       "<div>\n",
       "<table border=\"1\" class=\"dataframe\">\n",
       "  <thead>\n",
       "    <tr style=\"text-align: right;\">\n",
       "      <th></th>\n",
       "      <th>Down</th>\n",
       "      <th>None</th>\n",
       "      <th>Up</th>\n",
       "    </tr>\n",
       "  </thead>\n",
       "  <tbody>\n",
       "    <tr>\n",
       "      <th>Percentage (%)</th>\n",
       "      <td>38.888889</td>\n",
       "      <td>0.0</td>\n",
       "      <td>61.111111</td>\n",
       "    </tr>\n",
       "  </tbody>\n",
       "</table>\n",
       "</div>"
      ],
      "text/plain": [
       "                     Down  None         Up\n",
       "Percentage (%)  38.888889   0.0  61.111111"
      ]
     },
     "execution_count": 30,
     "metadata": {},
     "output_type": "execute_result"
    }
   ],
   "source": [
    "# Start running the analysis for Fixed-Ratio\n",
    "# Baseline before Eat_Start and compare to the eating bout\n",
    "base = -10.0\n",
    "duration = 30.0\n",
    "\n",
    "eventStart = getEvents(mice, eventList, 'Eat_Start', trials)\n",
    "eventEnd = getEvents(mice, eventList, 'Eat_End', trials)\n",
    "baseEvent = getEvents(mice, eventList, 'Eat_Start', trials)\n",
    "\n",
    "boutsData =  getBouts(mice, dFFList, eventStart, eventEnd, baseEvent, base, behType, trials, baselining=True)\n",
    "boutMeansFR1 = getBoutMeans(mice, boutsData, behType=behType, trials=trials, base=base, fs=fs)\n",
    "\n",
    "[statsFR1, percFR1] = getStats(boutMeansFR1, choice='Wilcoxon', parameter='Auc', p_val=0.05)\n",
    "\n",
    "percFR1"
   ]
  },
  {
   "cell_type": "code",
   "execution_count": 27,
   "metadata": {
    "collapsed": false,
    "scrolled": true
   },
   "outputs": [
    {
     "name": "stdout",
     "output_type": "stream",
     "text": [
      "\n",
      "3  mice were loaded.\n",
      "\n",
      "Traces were not baselined.\n"
     ]
    },
    {
     "data": {
      "text/html": [
       "<div>\n",
       "<table border=\"1\" class=\"dataframe\">\n",
       "  <thead>\n",
       "    <tr style=\"text-align: right;\">\n",
       "      <th></th>\n",
       "      <th>Down</th>\n",
       "      <th>None</th>\n",
       "      <th>Up</th>\n",
       "    </tr>\n",
       "  </thead>\n",
       "  <tbody>\n",
       "    <tr>\n",
       "      <th>Percentage (%)</th>\n",
       "      <td>16.666667</td>\n",
       "      <td>41.666667</td>\n",
       "      <td>41.666667</td>\n",
       "    </tr>\n",
       "  </tbody>\n",
       "</table>\n",
       "</div>"
      ],
      "text/plain": [
       "                     Down       None         Up\n",
       "Percentage (%)  16.666667  41.666667  41.666667"
      ]
     },
     "execution_count": 27,
     "metadata": {},
     "output_type": "execute_result"
    }
   ],
   "source": [
    "# Start running the analysis for Fixed-Ratio\n",
    "# Baseline before Eat_Start and compare to the eating bout\n",
    "base = -10.0\n",
    "duration = 30.0\n",
    "\n",
    "eventStart = getEvents(mice, eventList, 'Eat_Start', trials)\n",
    "eventEnd = getEvents(mice, eventList, 'Eat_End', trials)\n",
    "baseEvent = getEvents(mice, eventList, 'Eat_Start', trials)\n",
    "\n",
    "boutsData =  getBouts(mice, dFFList, eventStart, eventEnd, baseEvent, base, behType, trials, baselining=False)\n",
    "boutMeansFR1 = getBoutMeans(mice, boutsData, behType=behType, trials=trials, base=base, fs=fs)\n",
    "\n",
    "[statsFR1, percFR1] = getStats(boutMeansFR1, choice='Ranksum', parameter='Mean', p_val=0.05)\n",
    "\n",
    "percFR1"
   ]
  },
  {
   "cell_type": "code",
   "execution_count": 28,
   "metadata": {
    "collapsed": false
   },
   "outputs": [
    {
     "name": "stdout",
     "output_type": "stream",
     "text": [
      "\n",
      "3  mice were loaded.\n",
      "\n",
      "Baseline was set -10.0 sec before the event.\n"
     ]
    },
    {
     "data": {
      "text/html": [
       "<div>\n",
       "<table border=\"1\" class=\"dataframe\">\n",
       "  <thead>\n",
       "    <tr style=\"text-align: right;\">\n",
       "      <th></th>\n",
       "      <th>Down</th>\n",
       "      <th>None</th>\n",
       "      <th>Up</th>\n",
       "    </tr>\n",
       "  </thead>\n",
       "  <tbody>\n",
       "    <tr>\n",
       "      <th>Percentage (%)</th>\n",
       "      <td>30.555556</td>\n",
       "      <td>19.444444</td>\n",
       "      <td>50.0</td>\n",
       "    </tr>\n",
       "  </tbody>\n",
       "</table>\n",
       "</div>"
      ],
      "text/plain": [
       "                     Down       None    Up\n",
       "Percentage (%)  30.555556  19.444444  50.0"
      ]
     },
     "execution_count": 28,
     "metadata": {},
     "output_type": "execute_result"
    }
   ],
   "source": [
    "# Start running the analysis for Fixed-Ratio\n",
    "# Baseline before Eat_Start and compare to the eating bout\n",
    "base = -10.0\n",
    "duration = 30.0\n",
    "\n",
    "eventStart = getEvents(mice, eventList, 'Eat_Start', trials)\n",
    "eventEnd = getEvents(mice, eventList, 'Eat_End', trials)\n",
    "baseEvent = getEvents(mice, eventList, 'Eat_Start', trials)\n",
    "\n",
    "boutsData =  getBouts(mice, dFFList, eventStart, eventEnd, baseEvent, base, behType, trials, baselining=True)\n",
    "boutMeansFR1 = getBoutMeans(mice, boutsData, behType=behType, trials=trials, base=base, fs=fs)\n",
    "\n",
    "[statsFR1, percFR1] = getStats(boutMeansFR1, choice='Ranksum', parameter='Mean', p_val=0.05)\n",
    "\n",
    "percFR1"
   ]
  },
  {
   "cell_type": "code",
   "execution_count": null,
   "metadata": {
    "collapsed": true
   },
   "outputs": [],
   "source": []
  }
 ],
 "metadata": {
  "anaconda-cloud": {},
  "kernelspec": {
   "display_name": "Python [Root]",
   "language": "python",
   "name": "Python [Root]"
  },
  "language_info": {
   "codemirror_mode": {
    "name": "ipython",
    "version": 2
   },
   "file_extension": ".py",
   "mimetype": "text/x-python",
   "name": "python",
   "nbconvert_exporter": "python",
   "pygments_lexer": "ipython2",
   "version": "2.7.11"
  }
 },
 "nbformat": 4,
 "nbformat_minor": 0
}
